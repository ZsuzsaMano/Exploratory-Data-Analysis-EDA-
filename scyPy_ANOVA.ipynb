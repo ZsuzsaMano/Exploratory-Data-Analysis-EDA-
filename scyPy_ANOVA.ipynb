{
 "cells": [
  {
   "cell_type": "code",
   "execution_count": 1,
   "metadata": {},
   "outputs": [],
   "source": [
    "import pandas as pd\n",
    "import matplotlib.pyplot as plt\n",
    "import seaborn as sns\n",
    "import numpy as np\n",
    "from scipy import stats"
   ]
  },
  {
   "cell_type": "code",
   "execution_count": 2,
   "metadata": {},
   "outputs": [],
   "source": [
    "red_wine_original = pd.read_csv('https://archive.ics.uci.edu/ml/machine-learning-databases/wine-quality/winequality-red.csv', sep=';')\n",
    "white_wine_original = pd.read_csv('https://archive.ics.uci.edu/ml/machine-learning-databases/wine-quality/winequality-white.csv', sep=';')\n"
   ]
  },
  {
   "cell_type": "code",
   "execution_count": 3,
   "metadata": {},
   "outputs": [],
   "source": [
    "white_wine=white_wine_original.copy()\n",
    "red_wine=red_wine_original.copy()\n",
    "\n",
    "# we are creating a new column called \"quality_label\", we define a range and associate that range with a label\n",
    "red_wine['quality_label'] = red_wine['quality'].apply(lambda value: 'low'\n",
    "if value <= 5 else 'medium'\n",
    "if value <= 7 else 'high')\n",
    "\n",
    "# here we are transforming these labels into categrical data type (specific to pandas) instead of simple string\n",
    "red_wine['quality_label'] = pd.Categorical(red_wine['quality_label'],\n",
    "categories=['low', 'medium', 'high'])\n",
    "\n",
    "# we are creating a new column called \"quality_label\", we define a range and associate that range with a label\n",
    "white_wine['quality_label'] = white_wine['quality'].apply(lambda value: 'low'\n",
    "if value <= 5 else 'medium'\n",
    "if value <= 7 else 'high')\n",
    "\n",
    "# here we are transforming these labels into categrical data type (specific to pandas) instead of simple string\n",
    "white_wine['quality_label'] = pd.Categorical(white_wine['quality_label'],\n",
    "categories=['low', 'medium', 'high'])\n",
    "\n",
    "white_wine_to_concat=white_wine.copy()\n",
    "white_wine_to_concat['color']='white'\n",
    "red_wine_to_concat=red_wine.copy()\n",
    "red_wine_to_concat['color']='red'\n",
    "\n",
    "frames = [red_wine_to_concat, white_wine_to_concat]\n",
    "\n",
    "\n",
    "wines = pd.concat(frames)\n"
   ]
  },
  {
   "cell_type": "code",
   "execution_count": 4,
   "metadata": {},
   "outputs": [
    {
     "name": "stdout",
     "output_type": "stream",
     "text": [
      "ANOVA test for mean alcohol levels across wine samples with different quality ratings\n",
      "F Statistic: 205.23448800361507 \tp-value: 4.776936653588672e-80\n"
     ]
    }
   ],
   "source": [
    "\n",
    "\n",
    "F, p = stats.f_oneway(red_wine[red_wine['quality_label'] == 'low']['alcohol'],\n",
    "red_wine[red_wine['quality_label'] == 'medium']['alcohol'],\n",
    "red_wine[red_wine['quality_label'] == 'high']['alcohol'])\n",
    "print('ANOVA test for mean alcohol levels across wine samples with different quality ratings')\n",
    "print('F Statistic:', F, '\\tp-value:', p)"
   ]
  },
  {
   "cell_type": "markdown",
   "metadata": {},
   "source": [
    "# Anova Test\n",
    "\n",
    "   * F-test score: It calculates the variation between sample group means divided by variation within the sample group.\n",
    "   * P-value: It shows us the confidence degree. In other words, it tells us whether the obtained result is statistically significant or not.\n",
    "\n",
    "A p-value above 0.05 (as we chose 95% as confidence level) indicates that no difference can be found. But, if the value is below, there is a statistically significant difference \n",
    "\n",
    "## White wine"
   ]
  },
  {
   "cell_type": "code",
   "execution_count": 5,
   "metadata": {},
   "outputs": [
    {
     "name": "stdout",
     "output_type": "stream",
     "text": [
      "FIXED ACIDITY\n",
      "ANOVA test for mean fixed acidity levels across wine samples with different quality ratings\n",
      "F Statistic: 21.923026494425756 \tp-value: 0.0 \n",
      "\n",
      "VOLATILE ACIDITY\n",
      "ANOVA test for mean volatile acidity levels across wine samples with different quality ratings\n",
      "F Statistic: 133.6668084396585 \tp-value: 0.0 \n",
      "\n",
      "CITRIC ACID\n",
      "ANOVA test for mean citric acid levels across wine samples with different quality ratings\n",
      "F Statistic: 0.23254245986965996 \tp-value: 0.7925 \n",
      "\n",
      "RESIDUAL SUGAR\n",
      "ANOVA test for mean residual sugar levels across wine samples with different quality ratings\n",
      "F Statistic: 21.934773835107606 \tp-value: 0.0 \n",
      "\n",
      "CHLORIDES\n",
      "ANOVA test for mean chlorides levels across wine samples with different quality ratings\n",
      "F Statistic: 90.87064418602546 \tp-value: 0.0 \n",
      "\n",
      "FREE SULFUR DIOXIDE\n",
      "ANOVA test for mean free sulfur dioxide levels across wine samples with different quality ratings\n",
      "F Statistic: 0.5909833608324854 \tp-value: 0.5538 \n",
      "\n",
      "TOTAL SULFUR DIOXIDE\n",
      "ANOVA test for mean total sulfur dioxide levels across wine samples with different quality ratings\n",
      "F Statistic: 76.66028143448855 \tp-value: 0.0 \n",
      "\n",
      "DENSITY\n",
      "ANOVA test for mean density levels across wine samples with different quality ratings\n",
      "F Statistic: 209.69457693191376 \tp-value: 0.0 \n",
      "\n",
      "PH\n",
      "ANOVA test for mean pH levels across wine samples with different quality ratings\n",
      "F Statistic: 19.690945958199926 \tp-value: 0.0 \n",
      "\n",
      "SULPHATES\n",
      "ANOVA test for mean sulphates levels across wine samples with different quality ratings\n",
      "F Statistic: 7.115761884652371 \tp-value: 0.0008 \n",
      "\n",
      "ALCOHOL\n",
      "ANOVA test for mean alcohol levels across wine samples with different quality ratings\n",
      "F Statistic: 478.1628922043277 \tp-value: 0.0 \n",
      "\n",
      "QUALITY\n",
      "ANOVA test for mean quality levels across wine samples with different quality ratings\n",
      "F Statistic: 8597.455489858958 \tp-value: 0.0 \n",
      "\n"
     ]
    }
   ],
   "source": [
    "def anova_quality(df):\n",
    "    for col in df:\n",
    "        if col == 'quality_label':\n",
    "            continue\n",
    "        else:\n",
    "            print(col.upper())\n",
    "            F, p = stats.f_oneway(df[df['quality_label'] == 'low'][col],df[df['quality_label'] == 'medium'][col],df[df['quality_label'] == 'high'][col])\n",
    "            print(f'ANOVA test for mean {col} levels across wine samples with different quality ratings')\n",
    "            print('F Statistic:', F, '\\tp-value:', round(p,4), '\\n')\n",
    "        \n",
    "anova_quality(white_wine)"
   ]
  },
  {
   "cell_type": "markdown",
   "metadata": {},
   "source": [
    "## Red Wine"
   ]
  },
  {
   "cell_type": "code",
   "execution_count": 6,
   "metadata": {},
   "outputs": [
    {
     "name": "stdout",
     "output_type": "stream",
     "text": [
      "FIXED ACIDITY\n",
      "ANOVA test for mean fixed acidity levels across wine samples with different quality ratings\n",
      "F Statistic: 7.30844888128248 \tp-value: 0.0007 \n",
      "\n",
      "VOLATILE ACIDITY\n",
      "ANOVA test for mean volatile acidity levels across wine samples with different quality ratings\n",
      "F Statistic: 92.87437900766831 \tp-value: 0.0 \n",
      "\n",
      "CITRIC ACID\n",
      "ANOVA test for mean citric acid levels across wine samples with different quality ratings\n",
      "F Statistic: 22.85735545283018 \tp-value: 0.0 \n",
      "\n",
      "RESIDUAL SUGAR\n",
      "ANOVA test for mean residual sugar levels across wine samples with different quality ratings\n",
      "F Statistic: 0.011800296751587022 \tp-value: 0.9883 \n",
      "\n",
      "CHLORIDES\n",
      "ANOVA test for mean chlorides levels across wine samples with different quality ratings\n",
      "F Statistic: 10.542381423023661 \tp-value: 0.0 \n",
      "\n",
      "FREE SULFUR DIOXIDE\n",
      "ANOVA test for mean free sulfur dioxide levels across wine samples with different quality ratings\n",
      "F Statistic: 3.3917571885448745 \tp-value: 0.0339 \n",
      "\n",
      "TOTAL SULFUR DIOXIDE\n",
      "ANOVA test for mean total sulfur dioxide levels across wine samples with different quality ratings\n",
      "F Statistic: 45.71048039843774 \tp-value: 0.0 \n",
      "\n",
      "DENSITY\n",
      "ANOVA test for mean density levels across wine samples with different quality ratings\n",
      "F Statistic: 25.018992085108984 \tp-value: 0.0 \n",
      "\n",
      "PH\n",
      "ANOVA test for mean pH levels across wine samples with different quality ratings\n",
      "F Statistic: 0.7354879827479522 \tp-value: 0.4794 \n",
      "\n",
      "SULPHATES\n",
      "ANOVA test for mean sulphates levels across wine samples with different quality ratings\n",
      "F Statistic: 41.83852380407374 \tp-value: 0.0 \n",
      "\n",
      "ALCOHOL\n",
      "ANOVA test for mean alcohol levels across wine samples with different quality ratings\n",
      "F Statistic: 205.23448800361507 \tp-value: 0.0 \n",
      "\n",
      "QUALITY\n",
      "ANOVA test for mean quality levels across wine samples with different quality ratings\n",
      "F Statistic: 2703.3158744991665 \tp-value: 0.0 \n",
      "\n"
     ]
    }
   ],
   "source": [
    "anova_quality(red_wine)"
   ]
  },
  {
   "cell_type": "markdown",
   "metadata": {},
   "source": [
    "### Statistically important values"
   ]
  },
  {
   "cell_type": "code",
   "execution_count": 11,
   "metadata": {},
   "outputs": [
    {
     "name": "stdout",
     "output_type": "stream",
     "text": [
      "FIXED ACIDITY\n",
      "ANOVA test for mean fixed acidity levels across wine samples with different quality ratings\n",
      "F Statistic: 20.38163849837651 \tp-value: 0.0 \n",
      "\n",
      "VOLATILE ACIDITY\n",
      "ANOVA test for mean volatile acidity levels across wine samples with different quality ratings\n",
      "F Statistic: 250.33914475322013 \tp-value: 0.0 \n",
      "\n",
      "CITRIC ACID\n",
      "ANOVA test for mean citric acid levels across wine samples with different quality ratings\n",
      "F Statistic: 18.968901422737094 \tp-value: 0.0 \n",
      "\n",
      "RESIDUAL SUGAR\n",
      "ANOVA test for mean residual sugar levels across wine samples with different quality ratings\n",
      "F Statistic: 3.432938987382213 \tp-value: 0.0324 \n",
      "\n",
      "CHLORIDES\n",
      "ANOVA test for mean chlorides levels across wine samples with different quality ratings\n",
      "F Statistic: 120.96013685200977 \tp-value: 0.0 \n",
      "\n",
      "FREE SULFUR DIOXIDE\n",
      "ANOVA test for mean free sulfur dioxide levels across wine samples with different quality ratings\n",
      "F Statistic: 10.312540552928873 \tp-value: 0.0 \n",
      "\n",
      "TOTAL SULFUR DIOXIDE\n",
      "ANOVA test for mean total sulfur dioxide levels across wine samples with different quality ratings\n",
      "F Statistic: 7.836877117063729 \tp-value: 0.0004 \n",
      "\n",
      "DENSITY\n",
      "ANOVA test for mean density levels across wine samples with different quality ratings\n",
      "F Statistic: 287.5901261740119 \tp-value: 0.0 \n",
      "\n",
      "SULPHATES\n",
      "ANOVA test for mean sulphates levels across wine samples with different quality ratings\n",
      "F Statistic: 6.884948526194737 \tp-value: 0.001 \n",
      "\n",
      "ALCOHOL\n",
      "ANOVA test for mean alcohol levels across wine samples with different quality ratings\n",
      "F Statistic: 673.0745347231032 \tp-value: 0.0 \n",
      "\n",
      "QUALITY\n",
      "ANOVA test for mean quality levels across wine samples with different quality ratings\n",
      "F Statistic: 11502.207262663711 \tp-value: 0.0 \n",
      "\n"
     ]
    }
   ],
   "source": [
    "def anova_quality_significant(df):\n",
    "    for col in df:\n",
    "        if col == 'quality_label':\n",
    "            continue\n",
    "        else:\n",
    "         \n",
    "            F, p = stats.f_oneway(df[df['quality_label'] == 'low'][col],df[df['quality_label'] == 'medium'][col],df[df['quality_label'] == 'high'][col])\n",
    "            if round(p,4) < 0.05: \n",
    "                print(col.upper())\n",
    "                print(f'ANOVA test for mean {col} levels across wine samples with different quality ratings')\n",
    "                print('F Statistic:', F, '\\tp-value:', round(p,4), '\\n')\n",
    "                \n",
    "def anova_quality_not_significant(df):\n",
    "    for col in df:\n",
    "        if col == 'quality_label':\n",
    "            continue\n",
    "        else:\n",
    "         \n",
    "            F, p = stats.f_oneway(df[df['quality_label'] == 'low'][col],df[df['quality_label'] == 'medium'][col],df[df['quality_label'] == 'high'][col])\n",
    "            if round(p,4) > 0.05: \n",
    "                print(col.upper())\n",
    "                print(f'ANOVA test for mean {col} levels across wine samples with different quality ratings')\n",
    "                print('F Statistic:', F, '\\tp-value:', round(p,4), '\\n')\n",
    "                \n",
    "if 'color' in wines:\n",
    "    wine_mx=wines.drop(columns=[ 'color'])\n",
    "else: \n",
    "    wine_mx=wines.copy()\n",
    "    \n",
    "\n",
    "anova_quality_significant(wine_mx)\n"
   ]
  },
  {
   "cell_type": "markdown",
   "metadata": {},
   "source": [
    "## White"
   ]
  },
  {
   "cell_type": "code",
   "execution_count": 8,
   "metadata": {},
   "outputs": [
    {
     "name": "stdout",
     "output_type": "stream",
     "text": [
      "FIXED ACIDITY\n",
      "ANOVA test for mean fixed acidity levels across wine samples with different quality ratings\n",
      "F Statistic: 21.923026494425756 \tp-value: 0.0 \n",
      "\n",
      "VOLATILE ACIDITY\n",
      "ANOVA test for mean volatile acidity levels across wine samples with different quality ratings\n",
      "F Statistic: 133.6668084396585 \tp-value: 0.0 \n",
      "\n",
      "RESIDUAL SUGAR\n",
      "ANOVA test for mean residual sugar levels across wine samples with different quality ratings\n",
      "F Statistic: 21.934773835107606 \tp-value: 0.0 \n",
      "\n",
      "CHLORIDES\n",
      "ANOVA test for mean chlorides levels across wine samples with different quality ratings\n",
      "F Statistic: 90.87064418602546 \tp-value: 0.0 \n",
      "\n",
      "TOTAL SULFUR DIOXIDE\n",
      "ANOVA test for mean total sulfur dioxide levels across wine samples with different quality ratings\n",
      "F Statistic: 76.66028143448855 \tp-value: 0.0 \n",
      "\n",
      "DENSITY\n",
      "ANOVA test for mean density levels across wine samples with different quality ratings\n",
      "F Statistic: 209.69457693191376 \tp-value: 0.0 \n",
      "\n",
      "PH\n",
      "ANOVA test for mean pH levels across wine samples with different quality ratings\n",
      "F Statistic: 19.690945958199926 \tp-value: 0.0 \n",
      "\n",
      "SULPHATES\n",
      "ANOVA test for mean sulphates levels across wine samples with different quality ratings\n",
      "F Statistic: 7.115761884652371 \tp-value: 0.0008 \n",
      "\n",
      "ALCOHOL\n",
      "ANOVA test for mean alcohol levels across wine samples with different quality ratings\n",
      "F Statistic: 478.1628922043277 \tp-value: 0.0 \n",
      "\n",
      "QUALITY\n",
      "ANOVA test for mean quality levels across wine samples with different quality ratings\n",
      "F Statistic: 8597.455489858958 \tp-value: 0.0 \n",
      "\n"
     ]
    }
   ],
   "source": [
    "anova_quality_significant(white_wine)"
   ]
  },
  {
   "cell_type": "code",
   "execution_count": 12,
   "metadata": {},
   "outputs": [
    {
     "name": "stdout",
     "output_type": "stream",
     "text": [
      "CITRIC ACID\n",
      "ANOVA test for mean citric acid levels across wine samples with different quality ratings\n",
      "F Statistic: 0.23254245986965996 \tp-value: 0.7925 \n",
      "\n",
      "FREE SULFUR DIOXIDE\n",
      "ANOVA test for mean free sulfur dioxide levels across wine samples with different quality ratings\n",
      "F Statistic: 0.5909833608324854 \tp-value: 0.5538 \n",
      "\n"
     ]
    }
   ],
   "source": [
    "anova_quality_not_significant(white_wine)"
   ]
  },
  {
   "cell_type": "markdown",
   "metadata": {},
   "source": [
    "## Red"
   ]
  },
  {
   "cell_type": "code",
   "execution_count": 9,
   "metadata": {},
   "outputs": [
    {
     "name": "stdout",
     "output_type": "stream",
     "text": [
      "FIXED ACIDITY\n",
      "ANOVA test for mean fixed acidity levels across wine samples with different quality ratings\n",
      "F Statistic: 7.30844888128248 \tp-value: 0.0007 \n",
      "\n",
      "VOLATILE ACIDITY\n",
      "ANOVA test for mean volatile acidity levels across wine samples with different quality ratings\n",
      "F Statistic: 92.87437900766831 \tp-value: 0.0 \n",
      "\n",
      "CITRIC ACID\n",
      "ANOVA test for mean citric acid levels across wine samples with different quality ratings\n",
      "F Statistic: 22.85735545283018 \tp-value: 0.0 \n",
      "\n",
      "CHLORIDES\n",
      "ANOVA test for mean chlorides levels across wine samples with different quality ratings\n",
      "F Statistic: 10.542381423023661 \tp-value: 0.0 \n",
      "\n",
      "FREE SULFUR DIOXIDE\n",
      "ANOVA test for mean free sulfur dioxide levels across wine samples with different quality ratings\n",
      "F Statistic: 3.3917571885448745 \tp-value: 0.0339 \n",
      "\n",
      "TOTAL SULFUR DIOXIDE\n",
      "ANOVA test for mean total sulfur dioxide levels across wine samples with different quality ratings\n",
      "F Statistic: 45.71048039843774 \tp-value: 0.0 \n",
      "\n",
      "DENSITY\n",
      "ANOVA test for mean density levels across wine samples with different quality ratings\n",
      "F Statistic: 25.018992085108984 \tp-value: 0.0 \n",
      "\n",
      "SULPHATES\n",
      "ANOVA test for mean sulphates levels across wine samples with different quality ratings\n",
      "F Statistic: 41.83852380407374 \tp-value: 0.0 \n",
      "\n",
      "ALCOHOL\n",
      "ANOVA test for mean alcohol levels across wine samples with different quality ratings\n",
      "F Statistic: 205.23448800361507 \tp-value: 0.0 \n",
      "\n",
      "QUALITY\n",
      "ANOVA test for mean quality levels across wine samples with different quality ratings\n",
      "F Statistic: 2703.3158744991665 \tp-value: 0.0 \n",
      "\n"
     ]
    }
   ],
   "source": [
    "anova_quality_significant(red_wine)"
   ]
  },
  {
   "cell_type": "code",
   "execution_count": 13,
   "metadata": {},
   "outputs": [
    {
     "name": "stdout",
     "output_type": "stream",
     "text": [
      "RESIDUAL SUGAR\n",
      "ANOVA test for mean residual sugar levels across wine samples with different quality ratings\n",
      "F Statistic: 0.011800296751587022 \tp-value: 0.9883 \n",
      "\n",
      "PH\n",
      "ANOVA test for mean pH levels across wine samples with different quality ratings\n",
      "F Statistic: 0.7354879827479522 \tp-value: 0.4794 \n",
      "\n"
     ]
    }
   ],
   "source": [
    "anova_quality_not_significant(red_wine)\n"
   ]
  }
 ],
 "metadata": {
  "kernelspec": {
   "display_name": "base",
   "language": "python",
   "name": "python3"
  },
  "language_info": {
   "codemirror_mode": {
    "name": "ipython",
    "version": 3
   },
   "file_extension": ".py",
   "mimetype": "text/x-python",
   "name": "python",
   "nbconvert_exporter": "python",
   "pygments_lexer": "ipython3",
   "version": "3.11.5"
  }
 },
 "nbformat": 4,
 "nbformat_minor": 2
}
