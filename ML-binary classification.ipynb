{
 "cells": [
  {
   "cell_type": "markdown",
   "metadata": {},
   "source": [
    "# Predict color of wine"
   ]
  },
  {
   "cell_type": "code",
   "execution_count": 2,
   "metadata": {},
   "outputs": [],
   "source": [
    "import pandas as pd\n",
    "import matplotlib.pyplot as plt\n",
    "import seaborn as sns\n",
    "import numpy as np\n",
    "from scipy import stats\n"
   ]
  },
  {
   "cell_type": "code",
   "execution_count": 3,
   "metadata": {},
   "outputs": [],
   "source": [
    "red_wine_original = pd.read_csv('https://archive.ics.uci.edu/ml/machine-learning-databases/wine-quality/winequality-red.csv', sep=';')\n",
    "white_wine_original= pd.read_csv('https://archive.ics.uci.edu/ml/machine-learning-databases/wine-quality/winequality-white.csv', sep=';')"
   ]
  },
  {
   "cell_type": "code",
   "execution_count": 4,
   "metadata": {},
   "outputs": [],
   "source": [
    "white_wine=white_wine_original.copy()\n",
    "red_wine=red_wine_original.copy()\n",
    "\n",
    "\n",
    "\n",
    "\n"
   ]
  },
  {
   "cell_type": "code",
   "execution_count": 5,
   "metadata": {},
   "outputs": [
    {
     "name": "stdout",
     "output_type": "stream",
     "text": [
      "(1040, 12)\n"
     ]
    }
   ],
   "source": [
    "white_wine_original.describe()\n",
    "Q1=white_wine_original.quantile(0.25)\n",
    "Q3 = white_wine_original.quantile(0.75)\n",
    "IQR = Q3 - Q1\n",
    "\n",
    "outliers_white=(white_wine_original < (Q1 - 1.5 * IQR)) |(white_wine_original > (Q3 + 1.5 * IQR))\n",
    "df_out = white_wine_original[((white_wine_original < (Q1 - 1.5 * IQR)) |(white_wine_original > (Q3 + 1.5 * IQR))).any(axis=1)]\n",
    "\n",
    "print(df_out.shape)"
   ]
  },
  {
   "cell_type": "code",
   "execution_count": 6,
   "metadata": {},
   "outputs": [],
   "source": [
    "def remove_outliers(df):\n",
    "    for col in df:\n",
    "        Q1=df[col].quantile(0.25)\n",
    "        Q3 = df[col].quantile(0.75)\n",
    "        IQR = Q3 - Q1\n",
    "        df[col]=np.where(df[col]> (Q3 + 1.5 * IQR), (Q3 + 1.5 * IQR),np.where(df[col]<(Q1 - 1.5 * IQR),(Q1 - 1.5 * IQR),df[col]))\n",
    "\n",
    "# remove_outliers(white_wine)\n",
    "# remove_outliers(red_wine)"
   ]
  },
  {
   "cell_type": "code",
   "execution_count": 7,
   "metadata": {},
   "outputs": [
    {
     "name": "stdout",
     "output_type": "stream",
     "text": [
      "(1040, 12)\n"
     ]
    }
   ],
   "source": [
    "\n",
    "Q1=white_wine.quantile(0.25)\n",
    "Q3 = white_wine.quantile(0.75)\n",
    "IQR = Q3 - Q1\n",
    "\n",
    "outliers_white=(white_wine < (Q1 - 1.5 * IQR)) |(white_wine > (Q3 + 1.5 * IQR))\n",
    "df_out = white_wine[((white_wine < (Q1 - 1.5 * IQR)) |(white_wine > (Q3 + 1.5 * IQR))).any(axis=1)]\n",
    "print(df_out.shape)\n"
   ]
  },
  {
   "cell_type": "code",
   "execution_count": 8,
   "metadata": {},
   "outputs": [
    {
     "data": {
      "text/html": [
       "<div>\n",
       "<style scoped>\n",
       "    .dataframe tbody tr th:only-of-type {\n",
       "        vertical-align: middle;\n",
       "    }\n",
       "\n",
       "    .dataframe tbody tr th {\n",
       "        vertical-align: top;\n",
       "    }\n",
       "\n",
       "    .dataframe thead th {\n",
       "        text-align: right;\n",
       "    }\n",
       "</style>\n",
       "<table border=\"1\" class=\"dataframe\">\n",
       "  <thead>\n",
       "    <tr style=\"text-align: right;\">\n",
       "      <th></th>\n",
       "      <th>fixed acidity</th>\n",
       "      <th>volatile acidity</th>\n",
       "      <th>citric acid</th>\n",
       "      <th>residual sugar</th>\n",
       "      <th>chlorides</th>\n",
       "      <th>free sulfur dioxide</th>\n",
       "      <th>total sulfur dioxide</th>\n",
       "      <th>density</th>\n",
       "      <th>pH</th>\n",
       "      <th>sulphates</th>\n",
       "      <th>alcohol</th>\n",
       "      <th>quality</th>\n",
       "    </tr>\n",
       "  </thead>\n",
       "  <tbody>\n",
       "    <tr>\n",
       "      <th>count</th>\n",
       "      <td>6497.000000</td>\n",
       "      <td>6497.000000</td>\n",
       "      <td>6497.000000</td>\n",
       "      <td>6497.000000</td>\n",
       "      <td>6497.000000</td>\n",
       "      <td>6497.000000</td>\n",
       "      <td>6497.000000</td>\n",
       "      <td>6497.000000</td>\n",
       "      <td>6497.000000</td>\n",
       "      <td>6497.000000</td>\n",
       "      <td>6497.000000</td>\n",
       "      <td>6497.000000</td>\n",
       "    </tr>\n",
       "    <tr>\n",
       "      <th>mean</th>\n",
       "      <td>7.215307</td>\n",
       "      <td>0.339666</td>\n",
       "      <td>0.318633</td>\n",
       "      <td>5.443235</td>\n",
       "      <td>0.056034</td>\n",
       "      <td>30.525319</td>\n",
       "      <td>115.744574</td>\n",
       "      <td>0.994697</td>\n",
       "      <td>3.218501</td>\n",
       "      <td>0.531268</td>\n",
       "      <td>10.491801</td>\n",
       "      <td>5.818378</td>\n",
       "    </tr>\n",
       "    <tr>\n",
       "      <th>std</th>\n",
       "      <td>1.296434</td>\n",
       "      <td>0.164636</td>\n",
       "      <td>0.145318</td>\n",
       "      <td>4.757804</td>\n",
       "      <td>0.035034</td>\n",
       "      <td>17.749400</td>\n",
       "      <td>56.521855</td>\n",
       "      <td>0.002999</td>\n",
       "      <td>0.160787</td>\n",
       "      <td>0.148806</td>\n",
       "      <td>1.192712</td>\n",
       "      <td>0.873255</td>\n",
       "    </tr>\n",
       "    <tr>\n",
       "      <th>min</th>\n",
       "      <td>3.800000</td>\n",
       "      <td>0.080000</td>\n",
       "      <td>0.000000</td>\n",
       "      <td>0.600000</td>\n",
       "      <td>0.009000</td>\n",
       "      <td>1.000000</td>\n",
       "      <td>6.000000</td>\n",
       "      <td>0.987110</td>\n",
       "      <td>2.720000</td>\n",
       "      <td>0.220000</td>\n",
       "      <td>8.000000</td>\n",
       "      <td>3.000000</td>\n",
       "    </tr>\n",
       "    <tr>\n",
       "      <th>25%</th>\n",
       "      <td>6.400000</td>\n",
       "      <td>0.230000</td>\n",
       "      <td>0.250000</td>\n",
       "      <td>1.800000</td>\n",
       "      <td>0.038000</td>\n",
       "      <td>17.000000</td>\n",
       "      <td>77.000000</td>\n",
       "      <td>0.992340</td>\n",
       "      <td>3.110000</td>\n",
       "      <td>0.430000</td>\n",
       "      <td>9.500000</td>\n",
       "      <td>5.000000</td>\n",
       "    </tr>\n",
       "    <tr>\n",
       "      <th>50%</th>\n",
       "      <td>7.000000</td>\n",
       "      <td>0.290000</td>\n",
       "      <td>0.310000</td>\n",
       "      <td>3.000000</td>\n",
       "      <td>0.047000</td>\n",
       "      <td>29.000000</td>\n",
       "      <td>118.000000</td>\n",
       "      <td>0.994890</td>\n",
       "      <td>3.210000</td>\n",
       "      <td>0.510000</td>\n",
       "      <td>10.300000</td>\n",
       "      <td>6.000000</td>\n",
       "    </tr>\n",
       "    <tr>\n",
       "      <th>75%</th>\n",
       "      <td>7.700000</td>\n",
       "      <td>0.400000</td>\n",
       "      <td>0.390000</td>\n",
       "      <td>8.100000</td>\n",
       "      <td>0.065000</td>\n",
       "      <td>41.000000</td>\n",
       "      <td>156.000000</td>\n",
       "      <td>0.996990</td>\n",
       "      <td>3.320000</td>\n",
       "      <td>0.600000</td>\n",
       "      <td>11.300000</td>\n",
       "      <td>6.000000</td>\n",
       "    </tr>\n",
       "    <tr>\n",
       "      <th>max</th>\n",
       "      <td>15.900000</td>\n",
       "      <td>1.580000</td>\n",
       "      <td>1.660000</td>\n",
       "      <td>65.800000</td>\n",
       "      <td>0.611000</td>\n",
       "      <td>289.000000</td>\n",
       "      <td>440.000000</td>\n",
       "      <td>1.038980</td>\n",
       "      <td>4.010000</td>\n",
       "      <td>2.000000</td>\n",
       "      <td>14.900000</td>\n",
       "      <td>9.000000</td>\n",
       "    </tr>\n",
       "  </tbody>\n",
       "</table>\n",
       "</div>"
      ],
      "text/plain": [
       "       fixed acidity  volatile acidity  citric acid  residual sugar  \\\n",
       "count    6497.000000       6497.000000  6497.000000     6497.000000   \n",
       "mean        7.215307          0.339666     0.318633        5.443235   \n",
       "std         1.296434          0.164636     0.145318        4.757804   \n",
       "min         3.800000          0.080000     0.000000        0.600000   \n",
       "25%         6.400000          0.230000     0.250000        1.800000   \n",
       "50%         7.000000          0.290000     0.310000        3.000000   \n",
       "75%         7.700000          0.400000     0.390000        8.100000   \n",
       "max        15.900000          1.580000     1.660000       65.800000   \n",
       "\n",
       "         chlorides  free sulfur dioxide  total sulfur dioxide      density  \\\n",
       "count  6497.000000          6497.000000           6497.000000  6497.000000   \n",
       "mean      0.056034            30.525319            115.744574     0.994697   \n",
       "std       0.035034            17.749400             56.521855     0.002999   \n",
       "min       0.009000             1.000000              6.000000     0.987110   \n",
       "25%       0.038000            17.000000             77.000000     0.992340   \n",
       "50%       0.047000            29.000000            118.000000     0.994890   \n",
       "75%       0.065000            41.000000            156.000000     0.996990   \n",
       "max       0.611000           289.000000            440.000000     1.038980   \n",
       "\n",
       "                pH    sulphates      alcohol      quality  \n",
       "count  6497.000000  6497.000000  6497.000000  6497.000000  \n",
       "mean      3.218501     0.531268    10.491801     5.818378  \n",
       "std       0.160787     0.148806     1.192712     0.873255  \n",
       "min       2.720000     0.220000     8.000000     3.000000  \n",
       "25%       3.110000     0.430000     9.500000     5.000000  \n",
       "50%       3.210000     0.510000    10.300000     6.000000  \n",
       "75%       3.320000     0.600000    11.300000     6.000000  \n",
       "max       4.010000     2.000000    14.900000     9.000000  "
      ]
     },
     "execution_count": 8,
     "metadata": {},
     "output_type": "execute_result"
    }
   ],
   "source": [
    "white_wine_to_concat=white_wine.copy()\n",
    "white_wine_to_concat['color']='white'\n",
    "red_wine_to_concat=red_wine.copy()\n",
    "red_wine_to_concat['color']='red'\n",
    "\n",
    "frames = [red_wine_to_concat, white_wine_to_concat]\n",
    "\n",
    "#Over-sampling: is creating copies of the minority classes to even-up the classes.\n",
    "#frames = [red_wine_to_concat, white_wine_to_concat, red_wine_to_concat,red_wine_to_concat,]\n",
    "\n",
    "\n",
    "wines = pd.concat(frames)\n",
    "\n",
    "wines.describe()\n"
   ]
  },
  {
   "cell_type": "markdown",
   "metadata": {},
   "source": [
    "## Remove Outliers/ legally not acceptable wine\n",
    "\n",
    "- __Volatile acidity:__    In the U.S, the legal limits of Volatile Acidity are 1.2 g/L for red table wine and 1.1 g/L for white table wine. \n",
    "\n",
    "- __Total sulfur dioxide:__   There are legal limits for sulfur levels in wines: in the EU, red wines can only have 160mg/L, while white and rose wines can have about 210mg/L. Sweet wines are allowed to have 400mg/L. For the US, the legal limits are set at 350mg/L, and for Australia, this is 250mg/L.\n",
    "\n",
    "- __pH:__   Less than 7 are acidic, while solutions with a pH greater than 7 are basic. With a pH of 7, pure water is neutral. Most wines have a pH between 2.9 and 3.9 and are therefore acidic.\n",
    "\n"
   ]
  },
  {
   "cell_type": "markdown",
   "metadata": {},
   "source": [
    "### Find wines out of legal limit"
   ]
  },
  {
   "cell_type": "code",
   "execution_count": 9,
   "metadata": {},
   "outputs": [
    {
     "name": "stdout",
     "output_type": "stream",
     "text": [
      "(8, 13)\n",
      "      fixed acidity  volatile acidity  citric acid  residual sugar  chlorides  \\\n",
      "38              5.7             1.130         0.09            1.50      0.172   \n",
      "126             8.2             1.330         0.00            1.70      0.081   \n",
      "127             8.1             1.330         0.00            1.80      0.082   \n",
      "672             9.8             1.240         0.34            2.00      0.079   \n",
      "690             7.4             1.185         0.00            4.25      0.097   \n",
      "724             7.5             1.115         0.10            3.10      0.086   \n",
      "1299            7.6             1.580         0.00            2.10      0.137   \n",
      "1312            8.0             1.180         0.21            1.90      0.083   \n",
      "\n",
      "      free sulfur dioxide  total sulfur dioxide  density    pH  sulphates  \\\n",
      "38                    7.0                  19.0  0.99400  3.50       0.48   \n",
      "126                   3.0                  12.0  0.99640  3.53       0.49   \n",
      "127                   3.0                  12.0  0.99640  3.54       0.48   \n",
      "672                  32.0                 151.0  0.99800  3.15       0.53   \n",
      "690                   5.0                  14.0  0.99660  3.63       0.54   \n",
      "724                   5.0                  12.0  0.99580  3.54       0.60   \n",
      "1299                  5.0                   9.0  0.99476  3.50       0.40   \n",
      "1312                 14.0                  41.0  0.99532  3.34       0.47   \n",
      "\n",
      "      alcohol  quality color  \n",
      "38        9.8        4   red  \n",
      "126      10.9        5   red  \n",
      "127      10.9        5   red  \n",
      "672       9.5        5   red  \n",
      "690      10.7        3   red  \n",
      "724      11.2        4   red  \n",
      "1299     10.9        3   red  \n",
      "1312     10.5        5   red  \n",
      "(2, 13)\n"
     ]
    },
    {
     "data": {
      "text/html": [
       "<div>\n",
       "<style scoped>\n",
       "    .dataframe tbody tr th:only-of-type {\n",
       "        vertical-align: middle;\n",
       "    }\n",
       "\n",
       "    .dataframe tbody tr th {\n",
       "        vertical-align: top;\n",
       "    }\n",
       "\n",
       "    .dataframe thead th {\n",
       "        text-align: right;\n",
       "    }\n",
       "</style>\n",
       "<table border=\"1\" class=\"dataframe\">\n",
       "  <thead>\n",
       "    <tr style=\"text-align: right;\">\n",
       "      <th></th>\n",
       "      <th>fixed acidity</th>\n",
       "      <th>volatile acidity</th>\n",
       "      <th>citric acid</th>\n",
       "      <th>residual sugar</th>\n",
       "      <th>chlorides</th>\n",
       "      <th>free sulfur dioxide</th>\n",
       "      <th>total sulfur dioxide</th>\n",
       "      <th>density</th>\n",
       "      <th>pH</th>\n",
       "      <th>sulphates</th>\n",
       "      <th>alcohol</th>\n",
       "      <th>quality</th>\n",
       "      <th>color</th>\n",
       "    </tr>\n",
       "  </thead>\n",
       "  <tbody>\n",
       "    <tr>\n",
       "      <th>4745</th>\n",
       "      <td>6.1</td>\n",
       "      <td>0.26</td>\n",
       "      <td>0.25</td>\n",
       "      <td>2.9</td>\n",
       "      <td>0.047</td>\n",
       "      <td>289.0</td>\n",
       "      <td>440.0</td>\n",
       "      <td>0.99314</td>\n",
       "      <td>3.44</td>\n",
       "      <td>0.64</td>\n",
       "      <td>10.5</td>\n",
       "      <td>3</td>\n",
       "      <td>white</td>\n",
       "    </tr>\n",
       "  </tbody>\n",
       "</table>\n",
       "</div>"
      ],
      "text/plain": [
       "      fixed acidity  volatile acidity  citric acid  residual sugar  chlorides  \\\n",
       "4745            6.1              0.26         0.25             2.9      0.047   \n",
       "\n",
       "      free sulfur dioxide  total sulfur dioxide  density    pH  sulphates  \\\n",
       "4745                289.0                 440.0  0.99314  3.44       0.64   \n",
       "\n",
       "      alcohol  quality  color  \n",
       "4745     10.5        3  white  "
      ]
     },
     "execution_count": 9,
     "metadata": {},
     "output_type": "execute_result"
    }
   ],
   "source": [
    "count_outliers=wines[wines['volatile acidity']>1.1].shape #8 rows\n",
    "print(count_outliers)\n",
    "display_outliers=wines[wines['volatile acidity']>1.1]\n",
    "print(display_outliers)\n",
    "\n",
    "count_outliers=wines[wines['total sulfur dioxide']>350].shape #2\n",
    "print(count_outliers)\n",
    "wines[(wines['total sulfur dioxide']>210)&(wines['color']=='red')]\n",
    "wines[(wines['total sulfur dioxide']>400)]"
   ]
  },
  {
   "cell_type": "markdown",
   "metadata": {},
   "source": [
    "### Remove non-legal and outlier"
   ]
  },
  {
   "cell_type": "code",
   "execution_count": 10,
   "metadata": {},
   "outputs": [
    {
     "name": "stdout",
     "output_type": "stream",
     "text": [
      "[38, 126, 127, 672, 690, 724, 1299, 1312]\n"
     ]
    },
    {
     "data": {
      "text/plain": [
       "[]"
      ]
     },
     "execution_count": 10,
     "metadata": {},
     "output_type": "execute_result"
    }
   ],
   "source": [
    "#get index of outliers\n",
    "get_index= wines.index[wines['volatile acidity']>1.1].tolist()\n",
    "print(get_index)\n",
    "\n",
    "#drop outliers\n",
    "wines_without_outliers=wines.drop(index=get_index, axis=0)\n",
    "\n",
    "# check if any outliers remained\n",
    "wines_without_outliers.index[wines_without_outliers['volatile acidity']>1.1].tolist()\n"
   ]
  },
  {
   "cell_type": "markdown",
   "metadata": {},
   "source": [
    "# Label encoder\n",
    "\n",
    "- encode ordinal data\n",
    "- for the target value y."
   ]
  },
  {
   "cell_type": "code",
   "execution_count": 11,
   "metadata": {},
   "outputs": [
    {
     "name": "stdout",
     "output_type": "stream",
     "text": [
      "['red' 'white']\n"
     ]
    },
    {
     "name": "stderr",
     "output_type": "stream",
     "text": [
      "/home/zsuzsa/anaconda3/lib/python3.11/site-packages/sklearn/preprocessing/_label.py:97: DataConversionWarning: A column-vector y was passed when a 1d array was expected. Please change the shape of y to (n_samples, ), for example using ravel().\n",
      "  y = column_or_1d(y, warn=True)\n",
      "/home/zsuzsa/anaconda3/lib/python3.11/site-packages/sklearn/preprocessing/_label.py:132: DataConversionWarning: A column-vector y was passed when a 1d array was expected. Please change the shape of y to (n_samples, ), for example using ravel().\n",
      "  y = column_or_1d(y, dtype=self.classes_.dtype, warn=True)\n"
     ]
    },
    {
     "data": {
      "text/html": [
       "<div>\n",
       "<style scoped>\n",
       "    .dataframe tbody tr th:only-of-type {\n",
       "        vertical-align: middle;\n",
       "    }\n",
       "\n",
       "    .dataframe tbody tr th {\n",
       "        vertical-align: top;\n",
       "    }\n",
       "\n",
       "    .dataframe thead th {\n",
       "        text-align: right;\n",
       "    }\n",
       "</style>\n",
       "<table border=\"1\" class=\"dataframe\">\n",
       "  <thead>\n",
       "    <tr style=\"text-align: right;\">\n",
       "      <th></th>\n",
       "      <th>fixed acidity</th>\n",
       "      <th>volatile acidity</th>\n",
       "      <th>citric acid</th>\n",
       "      <th>residual sugar</th>\n",
       "      <th>chlorides</th>\n",
       "      <th>free sulfur dioxide</th>\n",
       "      <th>total sulfur dioxide</th>\n",
       "      <th>density</th>\n",
       "      <th>pH</th>\n",
       "      <th>sulphates</th>\n",
       "      <th>alcohol</th>\n",
       "      <th>quality</th>\n",
       "      <th>color</th>\n",
       "    </tr>\n",
       "  </thead>\n",
       "  <tbody>\n",
       "    <tr>\n",
       "      <th>4893</th>\n",
       "      <td>6.2</td>\n",
       "      <td>0.21</td>\n",
       "      <td>0.29</td>\n",
       "      <td>1.6</td>\n",
       "      <td>0.039</td>\n",
       "      <td>24.0</td>\n",
       "      <td>92.0</td>\n",
       "      <td>0.99114</td>\n",
       "      <td>3.27</td>\n",
       "      <td>0.50</td>\n",
       "      <td>11.2</td>\n",
       "      <td>6</td>\n",
       "      <td>1</td>\n",
       "    </tr>\n",
       "    <tr>\n",
       "      <th>4894</th>\n",
       "      <td>6.6</td>\n",
       "      <td>0.32</td>\n",
       "      <td>0.36</td>\n",
       "      <td>8.0</td>\n",
       "      <td>0.047</td>\n",
       "      <td>57.0</td>\n",
       "      <td>168.0</td>\n",
       "      <td>0.99490</td>\n",
       "      <td>3.15</td>\n",
       "      <td>0.46</td>\n",
       "      <td>9.6</td>\n",
       "      <td>5</td>\n",
       "      <td>1</td>\n",
       "    </tr>\n",
       "    <tr>\n",
       "      <th>4895</th>\n",
       "      <td>6.5</td>\n",
       "      <td>0.24</td>\n",
       "      <td>0.19</td>\n",
       "      <td>1.2</td>\n",
       "      <td>0.041</td>\n",
       "      <td>30.0</td>\n",
       "      <td>111.0</td>\n",
       "      <td>0.99254</td>\n",
       "      <td>2.99</td>\n",
       "      <td>0.46</td>\n",
       "      <td>9.4</td>\n",
       "      <td>6</td>\n",
       "      <td>1</td>\n",
       "    </tr>\n",
       "    <tr>\n",
       "      <th>4896</th>\n",
       "      <td>5.5</td>\n",
       "      <td>0.29</td>\n",
       "      <td>0.30</td>\n",
       "      <td>1.1</td>\n",
       "      <td>0.022</td>\n",
       "      <td>20.0</td>\n",
       "      <td>110.0</td>\n",
       "      <td>0.98869</td>\n",
       "      <td>3.34</td>\n",
       "      <td>0.38</td>\n",
       "      <td>12.8</td>\n",
       "      <td>7</td>\n",
       "      <td>1</td>\n",
       "    </tr>\n",
       "    <tr>\n",
       "      <th>4897</th>\n",
       "      <td>6.0</td>\n",
       "      <td>0.21</td>\n",
       "      <td>0.38</td>\n",
       "      <td>0.8</td>\n",
       "      <td>0.020</td>\n",
       "      <td>22.0</td>\n",
       "      <td>98.0</td>\n",
       "      <td>0.98941</td>\n",
       "      <td>3.26</td>\n",
       "      <td>0.32</td>\n",
       "      <td>11.8</td>\n",
       "      <td>6</td>\n",
       "      <td>1</td>\n",
       "    </tr>\n",
       "  </tbody>\n",
       "</table>\n",
       "</div>"
      ],
      "text/plain": [
       "      fixed acidity  volatile acidity  citric acid  residual sugar  chlorides  \\\n",
       "4893            6.2              0.21         0.29             1.6      0.039   \n",
       "4894            6.6              0.32         0.36             8.0      0.047   \n",
       "4895            6.5              0.24         0.19             1.2      0.041   \n",
       "4896            5.5              0.29         0.30             1.1      0.022   \n",
       "4897            6.0              0.21         0.38             0.8      0.020   \n",
       "\n",
       "      free sulfur dioxide  total sulfur dioxide  density    pH  sulphates  \\\n",
       "4893                 24.0                  92.0  0.99114  3.27       0.50   \n",
       "4894                 57.0                 168.0  0.99490  3.15       0.46   \n",
       "4895                 30.0                 111.0  0.99254  2.99       0.46   \n",
       "4896                 20.0                 110.0  0.98869  3.34       0.38   \n",
       "4897                 22.0                  98.0  0.98941  3.26       0.32   \n",
       "\n",
       "      alcohol  quality  color  \n",
       "4893     11.2        6      1  \n",
       "4894      9.6        5      1  \n",
       "4895      9.4        6      1  \n",
       "4896     12.8        7      1  \n",
       "4897     11.8        6      1  "
      ]
     },
     "execution_count": 11,
     "metadata": {},
     "output_type": "execute_result"
    }
   ],
   "source": [
    "from sklearn.preprocessing import LabelEncoder\n",
    "\n",
    "#cheque for unique values in quality_label column\n",
    "\n",
    "wines_without_outliers['color'].unique()\n",
    "\n",
    "\n",
    "le = LabelEncoder()\n",
    "\n",
    "\n",
    "le.fit(wines_without_outliers[['color']])\n",
    "\n",
    "print(le.classes_)\n",
    "\n",
    "df_transformed_color=pd.DataFrame(le.transform(wines_without_outliers[['color']]))\n",
    "\n",
    "#print(df_transformed_color)\n",
    "\n",
    "enc_wines_ml=wines_without_outliers.copy()\n",
    "\n",
    "#print(enc_wines_ml['color'])\n",
    "\n",
    "#replace color with encoded values\n",
    "enc_wines_ml['color']=df_transformed_color\n",
    "\n",
    "#print(le.inverse_transform([0,0, 1]))\n",
    "#print(le.transform([\"red\", \"red\", \"white\"]))\n",
    "\n",
    "\n",
    "\n",
    "enc_wines_ml.tail()"
   ]
  },
  {
   "cell_type": "markdown",
   "metadata": {},
   "source": [
    "## Heatmap"
   ]
  },
  {
   "cell_type": "code",
   "execution_count": 12,
   "metadata": {},
   "outputs": [
    {
     "data": {
      "image/png": "[encoded data removed]",
      "text/plain": [
       "<Figure size 640x480 with 2 Axes>"
      ]
     },
     "metadata": {},
     "output_type": "display_data"
    }
   ],
   "source": [
    "\n",
    "\n",
    "wines_mx=enc_wines_ml.corr()\n",
    "\n",
    "\n",
    "# creating mask\n",
    "mask = np.triu(np.ones_like(wines_mx))\n",
    "\n",
    "\n",
    "ax=sns.heatmap(\n",
    "    wines_mx,\n",
    "    annot=True,fmt=\".1f\",\n",
    "    square=True,\n",
    "    mask=mask,\n",
    "    cmap='vlag',\n",
    "    vmin = -1,\n",
    "    vmax = 1\n",
    ")\n",
    "\n",
    "\n",
    "ax.set_xticklabels(\n",
    "    ax.get_xticklabels(),\n",
    "    rotation=45,\n",
    "    horizontalalignment='right'\n",
    ")\n",
    "sns.set(rc = {'figure.figsize':(15,10)})"
   ]
  },
  {
   "cell_type": "markdown",
   "metadata": {},
   "source": [
    "## Drop what not important"
   ]
  },
  {
   "cell_type": "code",
   "execution_count": 13,
   "metadata": {},
   "outputs": [],
   "source": [
    "enc_wines_ml=enc_wines_ml.drop(columns=['citric acid', 'alcohol', 'quality', 'residual sugar', 'free sulfur dioxide', 'density', 'pH', 'sulphates', 'fixed acidity', 'chlorides'])"
   ]
  },
  {
   "cell_type": "code",
   "execution_count": 14,
   "metadata": {},
   "outputs": [
    {
     "data": {
      "image/png": "[encoded data removed]",
      "text/plain": [
       "<Figure size 1500x1000 with 2 Axes>"
      ]
     },
     "metadata": {},
     "output_type": "display_data"
    }
   ],
   "source": [
    "wines_mx=enc_wines_ml.corr()\n",
    "\n",
    "\n",
    "# creating mask\n",
    "mask = np.triu(np.ones_like(wines_mx))\n",
    "\n",
    "\n",
    "ax=sns.heatmap(\n",
    "    wines_mx,\n",
    "    annot=True,fmt=\".1f\",\n",
    "    square=True,\n",
    "    mask=mask,\n",
    "    cmap='vlag',\n",
    "    vmin = -1,\n",
    "    vmax = 1\n",
    ")\n",
    "\n",
    "\n",
    "ax.set_xticklabels(\n",
    "    ax.get_xticklabels(),\n",
    "    rotation=45,\n",
    "    horizontalalignment='right'\n",
    ")\n",
    "sns.set(rc = {'figure.figsize':(15,10)})"
   ]
  },
  {
   "cell_type": "markdown",
   "metadata": {},
   "source": [
    "## Split data\n",
    "\n",
    "- X = df # --> the features we will keep to build our model\n",
    "- y = target # --> what you're trying to predict\n",
    "- test-size: prportion of dataset to use for test\n",
    "- random_state: shuffling applied to the data before applying the split"
   ]
  },
  {
   "cell_type": "code",
   "execution_count": 15,
   "metadata": {},
   "outputs": [],
   "source": [
    "from sklearn.model_selection import train_test_split\n",
    "\n",
    "X=enc_wines_ml.copy()\n",
    "\n",
    "\n",
    "# Example:\n",
    "y=enc_wines_ml[['color']]\n",
    "X.drop(['color'],axis=1,inplace=True)\n",
    "\n",
    "\n",
    "X_train, X_test, y_train, y_test = train_test_split(X,y,test_size=0.2, random_state=42)\n",
    "\n",
    "#X_train, X_test, y_train, y_test = train_test_split(X, y, test_size=0.2,random_state=42,stratify=y)\n",
    "\t\t\t\t\t\t    \t\t\t\t\t\t    \n"
   ]
  },
  {
   "cell_type": "code",
   "execution_count": 16,
   "metadata": {},
   "outputs": [
    {
     "name": "stdout",
     "output_type": "stream",
     "text": [
      "X_train (5184, 2)\n",
      "y_train (5184, 1)\n",
      "X_test (1297, 2)\n",
      "y_test (1297, 1)\n"
     ]
    }
   ],
   "source": [
    "#to know the shape of the train and test dataset.\n",
    "print('X_train',X_train.shape)\n",
    "print('y_train',y_train.shape)\n",
    "print('X_test',X_test.shape)\n",
    "print('y_test',y_test.shape)\n",
    "\n",
    "# data normalisation with sklearn\n",
    "from sklearn.preprocessing import MinMaxScaler\n",
    "\n",
    "# fit scaler on training data\n",
    "norm = MinMaxScaler().fit(X_train)\n",
    "\n",
    "# transform training data\n",
    "X_train_norm = norm.transform(X_train)\n",
    "\n",
    "# transform testing data\n",
    "X_test_norm = norm.transform(X_test)\n",
    "\n",
    "\n"
   ]
  },
  {
   "cell_type": "markdown",
   "metadata": {},
   "source": [
    "# Hypetrparameter Tunig"
   ]
  },
  {
   "cell_type": "code",
   "execution_count": null,
   "metadata": {},
   "outputs": [],
   "source": []
  },
  {
   "cell_type": "markdown",
   "metadata": {},
   "source": [
    "## Feature scaling\n",
    "\n",
    "- Use normalisation techniques when you know that the distribution of your data is skewed.\n",
    "- On the other hand, standardisation can be helpful in cases where the data follows a Gaussian distribution (normal distribution). Also, outliers will not be affected by standardisation."
   ]
  },
  {
   "cell_type": "markdown",
   "metadata": {},
   "source": [
    "### Normalisation"
   ]
  },
  {
   "cell_type": "code",
   "execution_count": 17,
   "metadata": {},
   "outputs": [],
   "source": [
    "\n",
    "# data normalisation with sklearn\n",
    "from sklearn.preprocessing import MinMaxScaler\n",
    "\n",
    "# fit scaler on training data\n",
    "norm = MinMaxScaler().fit(X_train)\n",
    "\n",
    "# transform training data\n",
    "X_train_norm = norm.transform(X_train)\n",
    "\n",
    "# transform testing data\n",
    "X_test_norm = norm.transform(X_test)\n",
    "\n"
   ]
  },
  {
   "cell_type": "markdown",
   "metadata": {},
   "source": [
    "## Model Accuracy compare"
   ]
  },
  {
   "cell_type": "code",
   "execution_count": 18,
   "metadata": {},
   "outputs": [
    {
     "name": "stdout",
     "output_type": "stream",
     "text": [
      "\u001b[96m Logistic Regression: \u001b[0m 70.55 %\n",
      "\u001b[96m Decision Tree Classifier: \u001b[0m 69.08 %\n"
     ]
    },
    {
     "name": "stdout",
     "output_type": "stream",
     "text": [
      "\u001b[96m AdaBoost Classifier: \u001b[0m 72.63 %\n",
      "\u001b[96m Random Forest Classifier: \u001b[0m 73.63 %\n",
      "\u001b[96m Support Vector classifier: \u001b[0m 73.17 %\n"
     ]
    }
   ],
   "source": [
    "\n",
    "from sklearn.metrics import accuracy_score\n",
    "from sklearn.svm import SVC\n",
    "from sklearn.linear_model import LogisticRegression\n",
    "from sklearn.tree import DecisionTreeClassifier\n",
    "from sklearn.ensemble import AdaBoostClassifier\n",
    "from sklearn.ensemble import RandomForestClassifier\n",
    "\n",
    "def accuracy_compare(X_train, X_test, y_train, y_test):\n",
    "    lr = LogisticRegression()\n",
    "    lr.fit(X_train_norm, y_train.values.ravel())\n",
    "    pred_lr = lr.predict(X_test_norm)\n",
    "    print(\"\\033[96m Logistic Regression: \\033[0m\", np.round(accuracy_score(y_test, pred_lr)*100, 2), '%')\n",
    "    tree= DecisionTreeClassifier(max_depth=1, random_state=42)\n",
    "    tree=tree.fit(X_train, y_train)\n",
    "    pred_tree = tree.predict(X_test) \n",
    "    print(\"\\033[96m Decision Tree Classifier: \\033[0m\", np.round(accuracy_score(y_test, pred_tree)*100, 2), '%')\n",
    "    cla = AdaBoostClassifier(estimator=tree, n_estimators=100, random_state=42, learning_rate=0.5)\n",
    "    cla.fit(X_train, y_train.values.ravel())\n",
    "    pred_ada = cla.predict(X_test)\n",
    "    print(\"\\033[96m AdaBoost Classifier: \\033[0m\", np.round(accuracy_score(y_test, pred_ada)*100, 2), '%')\n",
    "    clr = RandomForestClassifier(max_depth=2, random_state=0)\n",
    "    clr.fit(X_train, y_train.values.ravel())\n",
    "    pred_rnd = clr.predict(X_test)\n",
    "    print(\"\\033[96m Random Forest Classifier: \\033[0m\", np.round(accuracy_score(y_test, pred_rnd)*100, 2), '%')\n",
    "    clf = SVC(kernel = 'linear').fit(X_train,y_train.values.ravel())\n",
    "    clf.predict(X_train)\n",
    "    pred_svc = clf.predict(X_test)\n",
    "    print(\"\\033[96m Support Vector classifier: \\033[0m\", np.round(accuracy_score(y_test, pred_svc)*100, 2), '%')\n",
    "\n",
    "accuracy_compare(X_train, X_test, y_train, y_test)\n",
    "\n",
    "    "
   ]
  },
  {
   "cell_type": "markdown",
   "metadata": {},
   "source": [
    "## Evaluate models (detailed)"
   ]
  },
  {
   "cell_type": "markdown",
   "metadata": {},
   "source": [
    "class color:\n",
    "   - PURPLE = '\\033[95m'\n",
    "   - CYAN = '\\033[96m'\n",
    "   - DARKCYAN = '\\033[36m'\n",
    "   - BLUE = '\\033[94m'\n",
    "   - GREEN = '\\033[92m'\n",
    "   -  YELLOW = '\\033[93m'\n",
    "   - RED = '\\033[91m'\n",
    "   - BOLD = '\\033[1m'\n",
    "   - UNDERLINE = '\\033[4m'\n",
    "   - END = '\\033[0m'\n",
    "\n",
    "print(color.BOLD + 'Hello, World!' + color.END)"
   ]
  },
  {
   "cell_type": "code",
   "execution_count": 19,
   "metadata": {},
   "outputs": [],
   "source": [
    "from sklearn.metrics import confusion_matrix\n",
    "from sklearn.metrics import accuracy_score\n",
    "from sklearn.metrics import classification_report\n",
    "from sklearn.metrics import cohen_kappa_score\n",
    "\n",
    "def evaluate (y_test, pred_lr, target_names):\n",
    "    print(\" \\033[95m \\033[1m Confusion matrix: \\033[0m\")\n",
    "    cm=confusion_matrix(y_test, pred_lr)\n",
    "    print(cm, '\\n\\n')\n",
    "    print(\"\\033[95m \\033[1m Accuracy score: \\033[0m\", np.round(accuracy_score(y_test, pred_lr)*100, 2), '%\\n\\n')\n",
    "    print(\"\\033[95m \\033[1m Classification report: \\033[0m \\n\",classification_report(y_test, pred_lr, target_names=target_names), '\\n\\n')\n",
    "    kappa = cohen_kappa_score(pred_lr, y_test)\n",
    "    print(\"\\033[95m \\033[1m Cohen-Kappa score: \\033[0m\", kappa)\n",
    "    "
   ]
  },
  {
   "cell_type": "markdown",
   "metadata": {},
   "source": [
    "## Logistic regression\n",
    "\n",
    "\n",
    "\n",
    "Fitting the model means training the model on training data using the .fit method provided in sklearn."
   ]
  },
  {
   "cell_type": "code",
   "execution_count": 20,
   "metadata": {},
   "outputs": [
    {
     "name": "stdout",
     "output_type": "stream",
     "text": [
      " \u001b[95m \u001b[1m Confusion matrix: \u001b[0m\n",
      "[[384 271]\n",
      " [111 531]] \n",
      "\n",
      "\n",
      "\u001b[95m \u001b[1m Accuracy score: \u001b[0m 70.55 %\n",
      "\n",
      "\n",
      "\u001b[95m \u001b[1m Classification report: \u001b[0m \n",
      "               precision    recall  f1-score   support\n",
      "\n",
      "         red       0.78      0.59      0.67       655\n",
      "       white       0.66      0.83      0.74       642\n",
      "\n",
      "    accuracy                           0.71      1297\n",
      "   macro avg       0.72      0.71      0.70      1297\n",
      "weighted avg       0.72      0.71      0.70      1297\n",
      " \n",
      "\n",
      "\n",
      "\u001b[95m \u001b[1m Cohen-Kappa score: \u001b[0m 0.41234254536828363\n"
     ]
    },
    {
     "name": "stderr",
     "output_type": "stream",
     "text": [
      "/home/zsuzsa/anaconda3/lib/python3.11/site-packages/sklearn/utils/validation.py:1184: DataConversionWarning: A column-vector y was passed when a 1d array was expected. Please change the shape of y to (n_samples, ), for example using ravel().\n",
      "  y = column_or_1d(y, warn=True)\n"
     ]
    }
   ],
   "source": [
    "from sklearn.linear_model import LogisticRegression\n",
    "\n",
    "\n",
    "# Fit the model\n",
    "lr = LogisticRegression()\n",
    "lr.fit(X_train_norm, y_train)\n",
    "\n",
    "pred_lr = lr.predict(X_test_norm)\n",
    "pred_lr\n",
    "\n",
    "evaluate(y_test, pred_lr,[\"red\",\"white\"])\n"
   ]
  },
  {
   "cell_type": "markdown",
   "metadata": {},
   "source": [
    "## SVC (Support Vector classifier)"
   ]
  },
  {
   "cell_type": "code",
   "execution_count": 21,
   "metadata": {},
   "outputs": [],
   "source": [
    "#We use Support Vector classifier as a classifier\n",
    "from sklearn.svm import SVC\n",
    "\n",
    "#training the classifier using X_Train and y_train \n",
    "clf = SVC(kernel = 'linear').fit(X_train,y_train.values.ravel())\n",
    "clf.predict(X_train)\n",
    "\n",
    "#Testing the model using X_test and storing the output in y_pred\n",
    "y_pred = clf.predict(X_test)"
   ]
  },
  {
   "cell_type": "code",
   "execution_count": 22,
   "metadata": {},
   "outputs": [
    {
     "name": "stdout",
     "output_type": "stream",
     "text": [
      " \u001b[95m \u001b[1m Confusion matrix: \u001b[0m\n",
      "[[362 293]\n",
      " [ 55 587]] \n",
      "\n",
      "\n",
      "\u001b[95m \u001b[1m Accuracy score: \u001b[0m 73.17 %\n",
      "\n",
      "\n",
      "\u001b[95m \u001b[1m Classification report: \u001b[0m \n",
      "               precision    recall  f1-score   support\n",
      "\n",
      "         red       0.87      0.55      0.68       655\n",
      "       white       0.67      0.91      0.77       642\n",
      "\n",
      "    accuracy                           0.73      1297\n",
      "   macro avg       0.77      0.73      0.72      1297\n",
      "weighted avg       0.77      0.73      0.72      1297\n",
      " \n",
      "\n",
      "\n",
      "\u001b[95m \u001b[1m Cohen-Kappa score: \u001b[0m 0.46529023330971875\n"
     ]
    }
   ],
   "source": [
    "evaluate(y_test, y_pred,[\"red\",\"white\"])"
   ]
  },
  {
   "cell_type": "markdown",
   "metadata": {},
   "source": [
    "## Decision Tree Classifier"
   ]
  },
  {
   "cell_type": "code",
   "execution_count": 23,
   "metadata": {},
   "outputs": [
    {
     "name": "stdout",
     "output_type": "stream",
     "text": [
      " \u001b[95m \u001b[1m Confusion matrix: \u001b[0m\n",
      "[[269 386]\n",
      " [ 15 627]] \n",
      "\n",
      "\n",
      "\u001b[95m \u001b[1m Accuracy score: \u001b[0m 69.08 %\n",
      "\n",
      "\n",
      "\u001b[95m \u001b[1m Classification report: \u001b[0m \n",
      "               precision    recall  f1-score   support\n",
      "\n",
      "         red       0.95      0.41      0.57       655\n",
      "       white       0.62      0.98      0.76       642\n",
      "\n",
      "    accuracy                           0.69      1297\n",
      "   macro avg       0.78      0.69      0.67      1297\n",
      "weighted avg       0.78      0.69      0.66      1297\n",
      " \n",
      "\n",
      "\n",
      "\u001b[95m \u001b[1m Cohen-Kappa score: \u001b[0m 0.3851140223422077\n"
     ]
    }
   ],
   "source": [
    "from sklearn.tree import DecisionTreeClassifier\n",
    "\n",
    "tree= DecisionTreeClassifier(max_depth=1, random_state=42)\n",
    "\n",
    "tree=tree.fit(X_train, y_train)\n",
    "\n",
    "y_pred_train = tree.predict(X_train)\n",
    "y_pred_test = tree.predict(X_test)\n",
    "\n",
    "#evaluate(y_train, y_pred_train,[\"red\",\"white\"])\n",
    "evaluate(y_test, y_pred_test,[\"red\",\"white\"])"
   ]
  },
  {
   "cell_type": "markdown",
   "metadata": {},
   "source": [
    "## AdaBoostClassifier"
   ]
  },
  {
   "cell_type": "code",
   "execution_count": 24,
   "metadata": {},
   "outputs": [
    {
     "name": "stdout",
     "output_type": "stream",
     "text": [
      " \u001b[95m \u001b[1m Confusion matrix: \u001b[0m\n",
      "[[358 297]\n",
      " [ 58 584]] \n",
      "\n",
      "\n",
      "\u001b[95m \u001b[1m Accuracy score: \u001b[0m 72.63 %\n",
      "\n",
      "\n",
      "\u001b[95m \u001b[1m Classification report: \u001b[0m \n",
      "               precision    recall  f1-score   support\n",
      "\n",
      "         red       0.86      0.55      0.67       655\n",
      "       white       0.66      0.91      0.77       642\n",
      "\n",
      "    accuracy                           0.73      1297\n",
      "   macro avg       0.76      0.73      0.72      1297\n",
      "weighted avg       0.76      0.73      0.72      1297\n",
      " \n",
      "\n",
      "\n",
      "\u001b[95m \u001b[1m Cohen-Kappa score: \u001b[0m 0.4545429775377402\n"
     ]
    }
   ],
   "source": [
    "from sklearn.ensemble import AdaBoostClassifier\n",
    "\n",
    "\n",
    "\n",
    "clf = AdaBoostClassifier(estimator=tree, n_estimators=100, random_state=42, learning_rate=0.5)\n",
    "clf.fit(X_train, y_train.values.ravel())\n",
    "y_pred = clf.predict(X_test)\n",
    "\n",
    "evaluate(y_test, y_pred,[\"red\",\"white\"])"
   ]
  }
 ],
 "metadata": {
  "kernelspec": {
   "display_name": "base",
   "language": "python",
   "name": "python3"
  },
  "language_info": {
   "codemirror_mode": {
    "name": "ipython",
    "version": 3
   },
   "file_extension": ".py",
   "mimetype": "text/x-python",
   "name": "python",
   "nbconvert_exporter": "python",
   "pygments_lexer": "ipython3",
   "version": "3.11.5"
  }
 },
 "nbformat": 4,
 "nbformat_minor": 2
}
