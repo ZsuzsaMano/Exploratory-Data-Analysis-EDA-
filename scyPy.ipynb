{
 "cells": [
  {
   "cell_type": "code",
   "execution_count": 2,
   "metadata": {},
   "outputs": [],
   "source": [
    "import pandas as pd\n",
    "import matplotlib.pyplot as plt\n",
    "import seaborn as sns\n",
    "import numpy as np\n",
    "from scipy import stats"
   ]
  },
  {
   "cell_type": "code",
   "execution_count": 3,
   "metadata": {},
   "outputs": [],
   "source": [
    "red_wine_original = pd.read_csv('https://archive.ics.uci.edu/ml/machine-learning-databases/wine-quality/winequality-red.csv', sep=';')\n",
    "white_wine_original = pd.read_csv('https://archive.ics.uci.edu/ml/machine-learning-databases/wine-quality/winequality-white.csv', sep=';')\n"
   ]
  },
  {
   "cell_type": "code",
   "execution_count": 4,
   "metadata": {},
   "outputs": [],
   "source": [
    "white_wine=white_wine_original.copy()\n",
    "red_wine=red_wine_original.copy()\n",
    "\n",
    "# we are creating a new column called \"quality_label\", we define a range and associate that range with a label\n",
    "red_wine['quality_label'] = red_wine['quality'].apply(lambda value: 'low'\n",
    "if value <= 5 else 'medium'\n",
    "if value <= 7 else 'high')\n",
    "\n",
    "# here we are transforming these labels into categrical data type (specific to pandas) instead of simple string\n",
    "red_wine['quality_label'] = pd.Categorical(red_wine['quality_label'],\n",
    "categories=['low', 'medium', 'high'])\n",
    "\n",
    "# we are creating a new column called \"quality_label\", we define a range and associate that range with a label\n",
    "white_wine['quality_label'] = white_wine['quality'].apply(lambda value: 'low'\n",
    "if value <= 5 else 'medium'\n",
    "if value <= 7 else 'high')\n",
    "\n",
    "# here we are transforming these labels into categrical data type (specific to pandas) instead of simple string\n",
    "white_wine['quality_label'] = pd.Categorical(white_wine['quality_label'],\n",
    "categories=['low', 'medium', 'high'])\n",
    "\n",
    "white_wine_to_concat=white_wine.copy()\n",
    "white_wine_to_concat['color']='white'\n",
    "red_wine_to_concat=red_wine.copy()\n",
    "red_wine_to_concat['color']='red'\n",
    "\n",
    "frames = [red_wine_to_concat, white_wine_to_concat]\n",
    "\n",
    "\n",
    "wines = pd.concat(frames)\n"
   ]
  },
  {
   "cell_type": "code",
   "execution_count": 5,
   "metadata": {},
   "outputs": [
    {
     "name": "stdout",
     "output_type": "stream",
     "text": [
      "ANOVA test for mean alcohol levels across wine samples with different quality ratings\n",
      "F Statistic: 205.23448800361507 \tp-value: 4.776936653588672e-80\n"
     ]
    }
   ],
   "source": [
    "\n",
    "\n",
    "F, p = stats.f_oneway(red_wine[red_wine['quality_label'] == 'low']['alcohol'],\n",
    "red_wine[red_wine['quality_label'] == 'medium']['alcohol'],\n",
    "red_wine[red_wine['quality_label'] == 'high']['alcohol'])\n",
    "print('ANOVA test for mean alcohol levels across wine samples with different quality ratings')\n",
    "print('F Statistic:', F, '\\tp-value:', p)"
   ]
  },
  {
   "cell_type": "markdown",
   "metadata": {},
   "source": [
    " The p-value is less than 0.05 in the first test. This tells us that there is a statistically significant difference in alcohol level means for at least two groups out of the three (hence, rejecting the null hypothesis in favor of the alternative)."
   ]
  },
  {
   "cell_type": "code",
   "execution_count": 6,
   "metadata": {},
   "outputs": [
    {
     "name": "stdout",
     "output_type": "stream",
     "text": [
      "ANOVA test for mean residual sugar levels across red wine samples with different quality ratings\n",
      "F Statistic: 0.011800296751587022 \tp-value: 0.9882691399198739\n"
     ]
    }
   ],
   "source": [
    "F, p = stats.f_oneway(red_wine[red_wine['quality_label'] == 'low']['residual sugar'],\n",
    "red_wine[red_wine['quality_label'] == 'medium']['residual sugar'],\n",
    "red_wine[red_wine['quality_label'] == 'high']['residual sugar'])\n",
    "print('ANOVA test for mean residual sugar levels across red wine samples with different quality ratings')\n",
    "print('F Statistic:', F, '\\tp-value:', p)"
   ]
  },
  {
   "cell_type": "markdown",
   "metadata": {},
   "source": [
    "there is no statistical significance between quality and residual sugar in red wine"
   ]
  },
  {
   "cell_type": "code",
   "execution_count": 7,
   "metadata": {},
   "outputs": [
    {
     "name": "stdout",
     "output_type": "stream",
     "text": [
      "ANOVA test for mean residual sugar levels across white wine samples with different quality ratings\n",
      "F Statistic: 383.96511708289677 \tp-value: 2.2886847058312988e-147\n"
     ]
    },
    {
     "name": "stderr",
     "output_type": "stream",
     "text": [
      "/tmp/ipykernel_9878/2899305801.py:2: UserWarning: Boolean Series key will be reindexed to match DataFrame index.\n",
      "  red_wine[white_wine['quality_label'] == 'medium']['residual sugar'],\n",
      "/tmp/ipykernel_9878/2899305801.py:3: UserWarning: Boolean Series key will be reindexed to match DataFrame index.\n",
      "  red_wine[white_wine['quality_label'] == 'high']['residual sugar'])\n"
     ]
    }
   ],
   "source": [
    "F, p = stats.f_oneway(white_wine[white_wine['quality_label'] == 'low']['residual sugar'],\n",
    "red_wine[white_wine['quality_label'] == 'medium']['residual sugar'],\n",
    "red_wine[white_wine['quality_label'] == 'high']['residual sugar'])\n",
    "print('ANOVA test for mean residual sugar levels across white wine samples with different quality ratings')\n",
    "print('F Statistic:', F, '\\tp-value:', p)"
   ]
  }
 ],
 "metadata": {
  "kernelspec": {
   "display_name": "base",
   "language": "python",
   "name": "python3"
  },
  "language_info": {
   "codemirror_mode": {
    "name": "ipython",
    "version": 3
   },
   "file_extension": ".py",
   "mimetype": "text/x-python",
   "name": "python",
   "nbconvert_exporter": "python",
   "pygments_lexer": "ipython3",
   "version": "3.11.5"
  }
 },
 "nbformat": 4,
 "nbformat_minor": 2
}
