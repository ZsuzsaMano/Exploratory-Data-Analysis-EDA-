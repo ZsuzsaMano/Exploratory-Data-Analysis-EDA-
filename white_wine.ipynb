{
 "cells": [
  {
   "cell_type": "code",
   "execution_count": 6,
   "metadata": {},
   "outputs": [
    {
     "name": "stdout",
     "output_type": "stream",
     "text": [
      "<class 'pandas.core.frame.DataFrame'>\n",
      "RangeIndex: 4898 entries, 0 to 4897\n",
      "Data columns (total 13 columns):\n",
      " #   Column                Non-Null Count  Dtype   \n",
      "---  ------                --------------  -----   \n",
      " 0   fixed acidity         4898 non-null   float64 \n",
      " 1   volatile acidity      4898 non-null   float64 \n",
      " 2   citric acid           4898 non-null   float64 \n",
      " 3   residual sugar        4898 non-null   float64 \n",
      " 4   chlorides             4898 non-null   float64 \n",
      " 5   free sulfur dioxide   4898 non-null   float64 \n",
      " 6   total sulfur dioxide  4898 non-null   float64 \n",
      " 7   density               4898 non-null   float64 \n",
      " 8   pH                    4898 non-null   float64 \n",
      " 9   sulphates             4898 non-null   float64 \n",
      " 10  alcohol               4898 non-null   float64 \n",
      " 11  quality               4898 non-null   int64   \n",
      " 12  quality_label         4898 non-null   category\n",
      "dtypes: category(1), float64(11), int64(1)\n",
      "memory usage: 464.2 KB\n"
     ]
    }
   ],
   "source": [
    "import pandas as pd\n",
    "white_wine = pd.read_csv('https://archive.ics.uci.edu/ml/machine-learning-databases/wine-quality/winequality-white.csv', sep=';')\n",
    "\n",
    "\n",
    "# we are creating a new column called \"quality_label\", we define a range and associate that range with a label\n",
    "white_wine['quality_label'] = white_wine['quality'].apply(lambda value: 'low'\n",
    "if value <= 5 else 'medium'\n",
    "if value <= 7 else 'high')\n",
    "\n",
    "# here we are transforming these labels into categrical data type (specific to pandas) instead of simple string\n",
    "white_wine['quality_label'] = pd.Categorical(white_wine['quality_label'],\n",
    "categories=['low', 'medium', 'high'])\n",
    "\n"
   ]
  }
 ],
 "metadata": {
  "kernelspec": {
   "display_name": "base",
   "language": "python",
   "name": "python3"
  },
  "language_info": {
   "codemirror_mode": {
    "name": "ipython",
    "version": 3
   },
   "file_extension": ".py",
   "mimetype": "text/x-python",
   "name": "python",
   "nbconvert_exporter": "python",
   "pygments_lexer": "ipython3",
   "version": "3.11.5"
  }
 },
 "nbformat": 4,
 "nbformat_minor": 2
}
